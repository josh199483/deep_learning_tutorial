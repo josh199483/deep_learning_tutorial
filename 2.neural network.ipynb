{
 "cells": [
  {
   "cell_type": "code",
   "execution_count": 1,
   "metadata": {
    "collapsed": true
   },
   "outputs": [],
   "source": [
    "# 第一節提到的感知器，就算是複雜的處理，也可以由人工設定權重的方式來處理\n",
    "# 而神經網路就可以解決這問題\n",
    "# 一個神經網路可以分為(1)輸入層 (2)隱藏層 (3)輸出層\n",
    "\n",
    "# 複習一下感知器\n",
    "# y = { 0 (b + w1*x1 + w2*x2 <= 0)\n",
    "#       1 (b + w1*x1 + w2*x2 > 0)}\n",
    "# b可以把他想成是權重為b，輸入為1的訊號\n",
    "# 這邊轉換一下算式\n",
    "# y = h(b + w1x1 + w2x2)\n",
    "# h(x) = {0 (x<=0)\n",
    "#         1 (x>0) }\n",
    "# 再轉換成 y = h(a)\n",
    "# 其中a = b + w1x1 + w2x2"
   ]
  },
  {
   "cell_type": "markdown",
   "metadata": {},
   "source": [
    "# 活化函數(activation function)"
   ]
  },
  {
   "cell_type": "code",
   "execution_count": 2,
   "metadata": {
    "collapsed": true
   },
   "outputs": [],
   "source": [
    "# 由上面提到的公式來看\n",
    "# h()就是所謂的活化函數，它的功能就是把輸入訊號的總和(b + w1x1 + w2x2)轉換成輸出訊號!!!!!!!!!!!!\n",
    "# h(x) = {0 (x<=0)\n",
    "#         1 (x>0) }\n",
    "# 這個函數是以臨界值為分界來轉換輸出訊號的函數，稱作 \"階梯函數\"(step function)\n",
    "# 所以感知器這種演算法，也可以稱為是 \"使用的是活化函數的階梯函數\" 的模型\n",
    "# 所以若把活化函數，從階梯函數改變成其他函數就可以開始了解神經網路在幹嘛囉!!!!"
   ]
  },
  {
   "cell_type": "markdown",
   "metadata": {},
   "source": [
    "# 階梯函數"
   ]
  },
  {
   "cell_type": "code",
   "execution_count": 6,
   "metadata": {
    "scrolled": true
   },
   "outputs": [
    {
     "name": "stdout",
     "output_type": "stream",
     "text": [
      "[False  True  True]\n",
      "[0 1 1]\n"
     ]
    },
    {
     "data": {
      "image/png": "[encoded data removed]",
      "text/plain": [
       "<matplotlib.figure.Figure at 0x1c43f9e67f0>"
      ]
     },
     "metadata": {},
     "output_type": "display_data"
    }
   ],
   "source": [
    "import numpy as np\n",
    "import matplotlib.pylab as plt\n",
    "\n",
    "# 用python來實作階梯函數，簡單!\n",
    "def step_function(x):\n",
    "    if x > 0:\n",
    "        return 1\n",
    "    else:\n",
    "        return 0\n",
    "# 但因為之後都要使用numpy，上面那個函數無法傳遞numpy的陣列，所以修改成\n",
    "def step_function(x):\n",
    "    y = x > 0\n",
    "    return y.astype(np.int) # 依照陣列布林值，轉換成0或1\n",
    "x = np.array([-1.0, 1.0,2.0])\n",
    "y = x > 0 # 這邊對numpy陣列值做不等式運算，等於對陣列裡所有元素做不等式運算(廣播的應用)\n",
    "print(y)\n",
    "y = y.astype(np.int) # False => 0, True => 1\n",
    "print(y)\n",
    "# 可再改寫成這樣\n",
    "def step_function(x):\n",
    "    return np.array(x > 0, dtype=np.int)\n",
    "x = np.arange(-5.0, 5.0, 0.1)\n",
    "y = step_function(x)\n",
    "# 把階梯函數畫出來，是個以0為界線，輸出只有0和1而已\n",
    "plt.plot(x, y)\n",
    "plt.ylim(-0.1, 1.1)\n",
    "plt.show()"
   ]
  },
  {
   "cell_type": "markdown",
   "metadata": {},
   "source": [
    "# sigmoid function"
   ]
  },
  {
   "cell_type": "code",
   "execution_count": 8,
   "metadata": {},
   "outputs": [
    {
     "name": "stdout",
     "output_type": "stream",
     "text": [
      "[ 0.26894142  0.73105858  0.88079708]\n"
     ]
    },
    {
     "data": {
      "image/png": "[encoded data removed]",
      "text/plain": [
       "<matplotlib.figure.Figure at 0x1c43f87f7b8>"
      ]
     },
     "metadata": {},
     "output_type": "display_data"
    }
   ],
   "source": [
    "import numpy as np\n",
    "import matplotlib.pylab as plt\n",
    "\n",
    "# sigmoid函數的實現\n",
    "# h(x) = 1 / (1 + exp(-x))\n",
    "def sigmoid(x):\n",
    "    return 1/(1 + np.exp(-x))\n",
    "x= np.array([-1.0, 1.0, 2.0])\n",
    "print(sigmoid(x))\n",
    "\n",
    "# 照樣來畫個sigmoid的表示圖\n",
    "x = np.arange(-5.0, 5.0, 0.1)\n",
    "y = sigmoid(x)\n",
    "plt.plot(x, y)\n",
    "plt.show()\n",
    "\n",
    "# 相較於前面提到的階梯函數而言，sigmoid函數是平滑的曲線，換句話說，在感知器裡是傳遞著0和1兩個訊號，而sigmoid函數則是傳遞連續性的實數訊號\n",
    "# 但輸出訊號都介於0~1"
   ]
  },
  {
   "cell_type": "markdown",
   "metadata": {},
   "source": [
    "# ReLU function"
   ]
  },
  {
   "cell_type": "code",
   "execution_count": 9,
   "metadata": {},
   "outputs": [
    {
     "data": {
      "image/png": "[encoded data removed]",
      "text/plain": [
       "<matplotlib.figure.Figure at 0x1c43e0786d8>"
      ]
     },
     "metadata": {},
     "output_type": "display_data"
    }
   ],
   "source": [
    "# 現在在神經網路中比較常使用的的是ReLU函數\n",
    "# h(x) = { x (x > 0)\n",
    "#          0 (x <= 0) }\n",
    "# 也就是輸入x大於0就直接輸出x，小於0就輸出0\n",
    "# 實現也很簡單\n",
    "def relu(x):\n",
    "    return np.maximum(0, x)\n",
    "# 照樣來畫個ReLu的表示圖\n",
    "x = np.arange(-5.0, 5.0, 0.1)\n",
    "y = relu(x)\n",
    "plt.plot(x, y)\n",
    "plt.show()"
   ]
  },
  {
   "cell_type": "markdown",
   "metadata": {},
   "source": [
    "# 多維陣列運算"
   ]
  },
  {
   "cell_type": "code",
   "execution_count": 11,
   "metadata": {},
   "outputs": [
    {
     "name": "stdout",
     "output_type": "stream",
     "text": [
      "[1 2 3 4]\n",
      "1\n",
      "(4,)\n",
      "[[1 2]\n",
      " [3 4]\n",
      " [5 6]]\n",
      "2\n",
      "(3, 2)\n"
     ]
    }
   ],
   "source": [
    "# 因為接下來的神經網路需要用到大量的陣列運算，先來熟悉一下numpy的陣列運算\n",
    "# 首先看一下一維陣列\n",
    "a = np.array([1,2,3,4])\n",
    "print(a)\n",
    "# a是幾維陣列\n",
    "print(np.ndim(a))\n",
    "# 觀察到a陣列的實際組成\n",
    "print(a.shape)\n",
    "# 二維陣列\n",
    "b = np.array([[1,2],\n",
    "             [3,4],\n",
    "             [5,6]])\n",
    "print(b)\n",
    "# b是幾維陣列，二維又稱作矩陣!!\n",
    "print(np.ndim(b))\n",
    "# 觀察到a陣列的實際組成\n",
    "print(b.shape)\n"
   ]
  },
  {
   "cell_type": "code",
   "execution_count": 17,
   "metadata": {},
   "outputs": [
    {
     "name": "stdout",
     "output_type": "stream",
     "text": [
      "(2, 3)\n",
      "(3, 2)\n",
      "[[22 28]\n",
      " [49 64]]\n",
      "[[ 9 12 15]\n",
      " [19 26 33]\n",
      " [29 40 51]]\n"
     ]
    }
   ],
   "source": [
    "# 來看矩陣的乘積!!!!!\n",
    "a = np.array([[1,2,3],\n",
    "             [4,5,6]])\n",
    "print(a.shape)\n",
    "b = np.array([[1,2],\n",
    "             [3,4],\n",
    "             [5,6]])\n",
    "print(b.shape)\n",
    "# 矩陣的乘積是有先後順序之分的!!!!!\n",
    "# 先來看一下numpy怎麼做\n",
    "print(np.dot(a,b)) # 變成一個2*2的矩陣 ==> [[22,28],[49,64]]\n",
    "# 是如何變成這樣的，只有當前矩陣的行(column，也就是a的shape為3)等於後矩陣的列(row，也就是b的shape為3)，才可以運算矩陣的乘積\n",
    "# 因為這邊很難畫圖，如果有興趣或不夠瞭解可以google一下!\n",
    "print(np.dot(b,a)) # 可以看到兩個結果是不一樣的! => 3*3矩陣\n",
    "# 若在矩陣運算時，前後兩矩陣元素數目不等會報錯喔!!"
   ]
  },
  {
   "cell_type": "code",
   "execution_count": 24,
   "metadata": {},
   "outputs": [
    {
     "name": "stdout",
     "output_type": "stream",
     "text": [
      "(2,)\n",
      "(2, 3)\n",
      "(3,)\n",
      "[ 0.3  0.7  1.1]\n",
      "[ 0.57444252  0.66818777  0.75026011]\n",
      "(3,)\n",
      "(3, 2)\n",
      "(2,)\n",
      "[ 0.7375277  0.7710107]\n",
      "[ 0.32795491  0.72966259]\n"
     ]
    }
   ],
   "source": [
    "# 接著來實作簡單的只有兩層隱藏層的神經網路\n",
    "# 因為圖實在不好畫，可能之後再補...\n",
    "X = np.array([1.0, 0.5]) # 為神經網路最初的輸入訊號\n",
    "W1 = np.array([[0.1, 0.3, 0.5], [0.2, 0.4, 0.6]]) # 為輸入訊號傳遞到下一層的權重值\n",
    "B1 = np.array([0.1, 0.2, 0.3]) # 為神經網路第一層的偏權值(bias)\n",
    "print(X.shape)\n",
    "print(W1.shape) # 輸入有2個訊號，輸出為3個訊號 => shape(2,3)\n",
    "print(B1.shape)\n",
    "\n",
    "# 因此從輸入層到隱藏層第一層的神經網路計算後的結果為\n",
    "A1 = np.dot(X,W1) + B1\n",
    "print(A1)\n",
    "\n",
    "# 但此時還沒有包含活化函數的部分，這邊先使用sigmoid函數\n",
    "Z1 = sigmoid(A1)\n",
    "print(Z1)\n",
    "\n",
    "# 接著再做第一層到第二層的部分\n",
    "W2 = np.array([[1.0, 0.4],[0.2, 0.5],[0.3, 0.6]])\n",
    "B2 = np.array([0.1, 0.2])\n",
    "print(Z1.shape)\n",
    "print(W2.shape) # 輸入有3個訊號，輸出為2個訊號 => shape(3,2)\n",
    "print(B2.shape)\n",
    "\n",
    "# 第二層結果為\n",
    "A2 = np.dot(Z1,W2) + B2\n",
    "Z2 = sigmoid(A2)\n",
    "print(Z2)\n",
    "\n",
    "# 最後是第二層傳遞訊號到輸出層!!\n",
    "# 執行方式跟前面幾乎一樣，只差在活化函數的不同!!\n",
    "def identity_function(x):\n",
    "    return x\n",
    "W3 = np.array([[0.1, 0.3],[0.2, 0.4]])\n",
    "B3 = np.array([0.1, 0.2])\n",
    "\n",
    "# 最終輸出結果，如果以這個範例來說沒有必要定義identity_function這個函數，只是為了統一流程，所以都用function來處理\n",
    "A3 = np.dot(Z2,W3) + B3\n",
    "Y = identity_function(A3)\n",
    "print(Y)\n",
    "# 但輸出層所使用的活化函數，會因為要解決問題性質的不同而改變，例如:如果是回歸問題，就使用identity_function這種恆等函數\n",
    "# 若是兩個分類的問題，可使用sigmoid函數，若是多分類問題則使用softmax函數等等\n",
    "\n"
   ]
  },
  {
   "cell_type": "code",
   "execution_count": 37,
   "metadata": {},
   "outputs": [
    {
     "name": "stdout",
     "output_type": "stream",
     "text": [
      "[ 0.32795491  0.72966259]\n"
     ]
    }
   ],
   "source": [
    "def sigmoid(x):\n",
    "    return 1/(1 + np.exp(-x))\n",
    "def identity_function(x):\n",
    "    return x\n",
    "# 這邊來做個統一執行處理的動作\n",
    "# 在執行神經網路時，統一權重值W用大寫，其餘偏權值或其他都用小寫\n",
    "def init_network():\n",
    "    network = {}\n",
    "    network['W1'] = np.array([[0.1, 0.3, 0.5], [0.2, 0.4, 0.6]])\n",
    "    network['b1'] = np.array([0.1, 0.2, 0.3])\n",
    "    network['W2'] = np.array([[1.0, 0.4],[0.2, 0.5],[0.3, 0.6]])\n",
    "    network['b2'] = np.array([0.1, 0.2])\n",
    "    network['W3'] = np.array([[0.1, 0.3],[0.2, 0.4]])\n",
    "    network['b3'] = np.array([0.1, 0.2])\n",
    "    \n",
    "    return network\n",
    "# 這邊用forawrd，是代表輸入往輸出的方向傳遞，之後還會介紹反向(backward)\n",
    "def forward(network, x):\n",
    "    W1, W2, W3 = network['W1'], network['W2'], network['W3']\n",
    "    b1, b2, b3 = network['b1'], network['b2'], network['b3']\n",
    "    \n",
    "    a1 = np.dot(x, W1) + b1\n",
    "    z1 = sigmoid(a1)\n",
    "    a2 = np.dot(z1, W2) + b2\n",
    "    z2 = sigmoid(a2)\n",
    "    a3 = np.dot(z2, W3) + b3\n",
    "    y = identity_function(a3)\n",
    "    \n",
    "    return y\n",
    "\n",
    "network = init_network()\n",
    "x = np.array([1.0, 0.5])\n",
    "y = forward(network, x)\n",
    "print(y)"
   ]
  },
  {
   "cell_type": "markdown",
   "metadata": {},
   "source": [
    "# 輸出層設計"
   ]
  },
  {
   "cell_type": "code",
   "execution_count": 36,
   "metadata": {},
   "outputs": [
    {
     "name": "stdout",
     "output_type": "stream",
     "text": [
      "[  1.34985881  18.17414537  54.59815003]\n",
      "74.1221542102\n",
      "[ 0.01821127  0.24519181  0.73659691]\n",
      "測試溢位問題\n",
      "[  0 -10 -20]\n",
      "[  9.99954600e-01   4.53978686e-05   2.06106005e-09]\n",
      "[ 0.01821127  0.24519181  0.73659691]\n",
      "1.0\n"
     ]
    }
   ],
   "source": [
    "# 前面有提到恆等函數identity_function比較適合用在回歸問題上\n",
    "# 這邊要來談分類問題，這時候可能會使用softmax函數\n",
    "# 定義如下 \n",
    "# yk = exp(ak) / 總和(從i=1~i=n)(exp(ai))，這邊表示應該用sigma符號來表達\n",
    "# 接著來看一行行執行softmax函數\n",
    "a = np.array([0.3, 2.9, 4.0])\n",
    "exp_a = np.exp(a)\n",
    "print(exp_a)\n",
    "sum_exp_a = np.sum(exp_a)\n",
    "print(sum_exp_a)\n",
    "y = exp_a/sum_exp_a\n",
    "print(y)\n",
    "# 定義成函數\n",
    "def softmax(a):\n",
    "    exp_a = np.exp(a)\n",
    "    sum_exp_a = np.sum(exp_a)\n",
    "    y = exp_a / sum_exp_a\n",
    "    return y\n",
    "# 現在這個函數雖然看起來使用沒有問題，但其實裡面計算了exp的指數，很容易發生溢位的問題，就是在計算的時候，該數值會超出位元組限制的範圍\n",
    "# 所有要修改函數，有興趣可以去google softmax函數推導\n",
    "# 簡而言之，就是在執行softmax函數時，分子分母同時加上(或減去)某個定數，不會影響結果也可以防止溢位問題!!\n",
    "# 範例:，通常會減去輸入訊號的最大數值!\n",
    "print(\"測試溢位問題\")\n",
    "a = np.array([1010,1000,990])\n",
    "# np.exp(a) #array([ inf,  inf,  inf])\n",
    "c = np.max(a)\n",
    "print(a-c)\n",
    "print(np.exp(a-c) / np.sum(np.exp(a-c)))\n",
    "# 所以改善後的softmax函數\n",
    "def softmax(a):\n",
    "    c = np.max(a)\n",
    "    exp_a = np.exp(a - c)\n",
    "    sum_exp_a = np.sum(exp_a)\n",
    "    y = exp_a / sum_exp_a\n",
    "    return y\n",
    "a = np.array([0.3, 2.9, 4.0])\n",
    "y = softmax(a)\n",
    "print(y)\n",
    "print(np.sum(y))\n",
    "# 可以看到softmax函數的輸出值都介於0~1，並且總和為1，這是softmax函數非常重要的性質，因為這樣可以把輸出解釋為機率\n",
    "# 以這個範例來看，可以解釋成有73.6%機率為第2類別，24.5%為第1類別，0.02%為第0類別\n",
    "\n",
    "# 輸出層的神經元數量，會依照解決的問題有所不同，如果是要預測某影像是數字0~9的其中一個，輸出層就必須設定為10個，會依照想分類的類別數量制定"
   ]
  }
 ],
 "metadata": {
  "kernelspec": {
   "display_name": "Python 3",
   "language": "python",
   "name": "python3"
  },
  "language_info": {
   "codemirror_mode": {
    "name": "ipython",
    "version": 3
   },
   "file_extension": ".py",
   "mimetype": "text/x-python",
   "name": "python",
   "nbconvert_exporter": "python",
   "pygments_lexer": "ipython3",
   "version": "3.6.1"
  }
 },
 "nbformat": 4,
 "nbformat_minor": 2
}
