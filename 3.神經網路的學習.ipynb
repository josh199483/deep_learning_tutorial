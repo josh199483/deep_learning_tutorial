{
 "cells": [
  {
   "cell_type": "code",
   "execution_count": 2,
   "metadata": {
    "collapsed": true
   },
   "outputs": [],
   "source": [
    "# 以辨識手寫數字為例\n",
    "# 1.以人類觀察的方式來找出規則性，舉例來說如果人類要知道這個圖像是0，可能可以以經驗來推斷1是由上往下的一直線，來判定該數字是否為1\n",
    "# 2.機器學習，人類想出來的特徵量(輸入資料裡擷取的重要資料，影像辨識領域中有一些有名的特徵量，例:SIFT、SURF等等)，並且用機器學習演算法來做辨識\n",
    "# 3.深度學習，電腦可以從圖像本身自己擷取特徵量，並自行分類數字的類別"
   ]
  },
  {
   "cell_type": "code",
   "execution_count": null,
   "metadata": {
    "collapsed": true
   },
   "outputs": [],
   "source": [
    "# 在機器學習問題中，通常會分成訓練資料和測試資料\n",
    "# 先用訓練資料進行學習，找到最佳模型參數，接著在用測試資料評估訓練後模型的performance\n",
    "# 因為這個模型最重要的是他的一般化能力\n",
    "# 也就是評估未知資料的能力!!\n",
    "# 一個模型如果缺乏一般化的能力，就會變成過度擬合(也就是overfitting)"
   ]
  },
  {
   "cell_type": "code",
   "execution_count": null,
   "metadata": {
    "collapsed": true
   },
   "outputs": [],
   "source": [
    "# 在神經網路裡，會使用損失函數(loss function)來當作指標，從中尋找模型的最佳參數\n",
    "# 目前比較常使用的損失函數有兩個，1.均方誤差(mean squared error) 2.交叉商誤差(cross entropy error)"
   ]
  },
  {
   "cell_type": "markdown",
   "metadata": {},
   "source": [
    "# 1.均方誤差(mean squared error)"
   ]
  },
  {
   "cell_type": "code",
   "execution_count": 9,
   "metadata": {},
   "outputs": [
    {
     "name": "stdout",
     "output_type": "stream",
     "text": [
      "0.09750000000000003\n",
      "0.6437499999999999\n"
     ]
    }
   ],
   "source": [
    "# 公式是 E = 1/2 * sigma(k)(yk - tk)^2\n",
    "# 有點難用文字表達...，可以自行google\n",
    "# 其中 yk 代表神經網路輸出的結果， tk 代表訓練資料，k 是資料的維度\n",
    "# 以手寫辨識數字為例，y = [0.1,0.6,0.05,0.0,...] ，t = [0,1,0,0,....]\n",
    "# 神經網路輸出的 y 是 softmax 函數的輸出，可以看為機率!!代表1的機率是0.6\n",
    "# t的表達方式是正確答案標籤用1來表達，其餘錯誤標籤都是0，範例是index為1的時候數字是1，所以正確標籤是1，這種表達方式稱為one-hot!!\n",
    "# 所以這個公式就是計算 \"神經網路輸出結果\" 和 \"正確標籤\" 的各元素差的總和\n",
    "# 也因此若神經網路輸出結果越接近正確答案時，MSE會越小，直到趨近於0\n",
    "# 當 t = [0,1,0,0,0,0,0,0,0,0]，而 y = [0,1,0,0,0,0,0,0,0,0]時，MSE會等於0，也就是輸出結果最適合訓練資料\n",
    "\n",
    "import numpy as np\n",
    "def mean_squared_error(y, t):\n",
    "    return 0.5 * np.sum((y-t)**2)\n",
    "\n",
    "# 假設辨識手寫數字的正確答案是1\n",
    "t = [0, 1, 0, 0, 0, 0, 0, 0, 0, 0]\n",
    "# 1的機率最高時\n",
    "y = [0.1, 0.6, 0.05, 0.0, 0.05, 0.1, 0.0, 0.1, 0.0, 0.0]\n",
    "print(mean_squared_error(np.array(y), np.array(t)))\n",
    "# 6的機率最高時，損失函數的值比較大\n",
    "y = [0.1, 0.05, 0.05, 0.0, 0.05, 0.6, 0.0, 0.1, 0.0, 0.0]\n",
    "print(mean_squared_error(np.array(y), np.array(t)))"
   ]
  },
  {
   "cell_type": "markdown",
   "metadata": {},
   "source": [
    "# 2.交叉商誤差(cross entropy error)"
   ]
  },
  {
   "cell_type": "code",
   "execution_count": 10,
   "metadata": {},
   "outputs": [
    {
     "data": {
      "image/png": "[encoded data removed]",
      "text/plain": [
       "<matplotlib.figure.Figure at 0x230e4c565c0>"
      ]
     },
     "metadata": {},
     "output_type": "display_data"
    },
    {
     "name": "stdout",
     "output_type": "stream",
     "text": [
      "0.510825457099338\n",
      "2.9957302735559908\n"
     ]
    }
   ],
   "source": [
    "# 公式是 E = -sigma(k)(tk * log(以e為底的對數)(yk))\n",
    "# 有點難用文字表達...，可以自行google\n",
    "# 數字越小越準確，但實際上只有tk = 1才會有值，其餘皆為0\n",
    "# 因為tk是正確答案的label，是以one-hot來表示，正確答案為1，其餘為0\n",
    "# 例如:假設1是正確答案，並且對應的神經網路輸出是0.5，交叉商誤差就是 -ln(0.6) = 0.51，ln是以e為底數的自然對數的表示方法\n",
    "\n",
    "import matplotlib.pylab as plt\n",
    "\n",
    "x = np.arange(0.01, 1.0, 0.001)\n",
    "y = np.log(x)\n",
    "# 把階梯函數畫出來，是個以0為界線，輸出只有0和1而已\n",
    "plt.plot(x, y)\n",
    "plt.show()\n",
    "\n",
    "# 這個圖是y = ln(x)的圖表\n",
    "# 可以看到x = 1的時候，y = 0，隨著x趨近於0，y值將會變得趨近負無限大\n",
    "# 也就是說當np.log(0)的時候，會變成負無限大造成無法運算\n",
    "# 所以cross_entropy_error方法要加入微小值(delta)，避免發生無限大的狀況\n",
    "\n",
    "def cross_entropy_error(y, t):\n",
    "    delta = 1e-7 # 0.0000001\n",
    "    return -np.sum(t * np.log(y + delta))\n",
    "\n",
    "# 假設辨識手寫數字的正確答案是1\n",
    "t = [0, 1, 0, 0, 0, 0, 0, 0, 0, 0]\n",
    "# 1的機率最高時\n",
    "y = [0.1, 0.6, 0.05, 0.0, 0.05, 0.1, 0.0, 0.1, 0.0, 0.0]\n",
    "print(cross_entropy_error(np.array(y), np.array(t)))\n",
    "# 6的機率最高時，損失函數的值比較大\n",
    "y = [0.1, 0.05, 0.05, 0.0, 0.05, 0.6, 0.0, 0.1, 0.0, 0.0]\n",
    "print(cross_entropy_error(np.array(y), np.array(t)))"
   ]
  },
  {
   "cell_type": "markdown",
   "metadata": {},
   "source": [
    "# 3.小批次學習"
   ]
  },
  {
   "cell_type": "code",
   "execution_count": 12,
   "metadata": {},
   "outputs": [
    {
     "data": {
      "text/plain": [
       "array([44514, 47199, 24979, 23825, 49778, 26025, 54961, 29350,  8177,\n",
       "       53702])"
      ]
     },
     "execution_count": 12,
     "metadata": {},
     "output_type": "execute_result"
    }
   ],
   "source": [
    "# 假設訓練資料筆數有100筆，那100個損失函數的和就是一個指標，只是為了不讓資料筆數影響損失函數的指標，會把總和再除以100筆，得到平均損失函數!\n",
    "# 以辨識手寫數字的MNIST資料集來說，有60000筆資料，如果要計算60000筆損失函數的平均要花費一些時間\n",
    "# 但如果是大數據，資料量達到千萬，甚至億以上的時候，就不太可能計算平均損失函數了\n",
    "# 所以在訓練神經網路時，會從訓練資料隨機挑選一部份資料，稱做小批次，例如60000筆資料挑選100筆資料做學習，就稱做小批次學習\n",
    "\n",
    "# 這邊先來個小批次學習的練習\n",
    "# 可試著自己載入dataset，不管是pandas或tensorflow整理的資料集，以下方式不能在這裡執行\n",
    "# import numpy as np\n",
    "# from dataset.mnist import load_mnist\n",
    "# (x_train, t_train), (x_test, t_test) = load_mnist(normalize=True, one_hot_label=True)\n",
    "# print(x_train.shape) # (60000, 784)\n",
    "# print(t_train.shape) # (60000, 10)\n",
    "\n",
    "# 如果要從60000筆資料隨機挑出10筆\n",
    "# 下面是大致概念\n",
    "# train_size = x_train.shape[0]\n",
    "# batch_size = 10\n",
    "# batch_mask = np.random.choice(train_size, batch_size) # 取得隨機index的陣列\n",
    "# x_batch = x_train[batch_mask]\n",
    "# t_batch = t_train[batch_mask]\n",
    "np.random.choice(60000, 10) # 會得到隨機挑選的10個index的陣列"
   ]
  },
  {
   "cell_type": "code",
   "execution_count": null,
   "metadata": {
    "collapsed": true
   },
   "outputs": [],
   "source": [
    "# 以批次版來執行cross entropy error\n",
    "def cross_entropy_error(y, t):\n",
    "    if y.ndim == 1:\n",
    "        t = t.reshape(1, t.size)\n",
    "        y = y.reshape(1, y.size)\n",
    "        \n",
    "    batch_size = y.shape[0]\n",
    "    return -np.sum(t * np.log(y)) / batch_size\n",
    "\n",
    "# 如果不是使用one-hot，而是2或是6這種標籤，function可改為這樣\n",
    "# 這邊還需要在更詳細的補充~~~~~~~~~~~~~~~~~~~~~~~\n",
    "def cross_entropy_error(y, t):\n",
    "    if y.ndim == 1:\n",
    "        t = t.reshape(1, t.size)\n",
    "        y = y.reshape(1, y.size)\n",
    "        \n",
    "    batch_size = y.shape[0]\n",
    "    return -np.sum(t * np.log(y[np.arange(batch_size), t])) / batch_size\n"
   ]
  },
  {
   "cell_type": "markdown",
   "metadata": {},
   "source": [
    "# 4.數值微分"
   ]
  },
  {
   "cell_type": "code",
   "execution_count": 21,
   "metadata": {},
   "outputs": [
    {
     "name": "stdout",
     "output_type": "stream",
     "text": [
      "0.0\n"
     ]
    }
   ],
   "source": [
    "# 因為接下來要介紹很重要的梯度觀念，所以先從微分開始講起\n",
    "# 微分代表某個瞬間的變化量\n",
    "# 例如:某個時間前1分鐘的跑步距離，縮短到某個時間前0.1秒的跑步距離，慢慢縮小就可以得到某瞬間的變化量(跑步距離)\n",
    "# https://zh.wikipedia.org/wiki/%E6%95%B8%E5%80%BC%E5%BE%AE%E5%88%86，維基百科的有限差分法就是在說這個，可參考\n",
    "# 通常看到df(x)/dx，所代表的就是f(x)這個函數對x作微分(也就是相對於x，f(x)的變化)!!\n",
    "# 下面是數值微分的實現，只需在h代入極小值即可\n",
    "def numerical_diff(f, x):\n",
    "    h = 1e-50\n",
    "    return (f(x+h) - f(x)) / h\n",
    "\n",
    "# 但上面的方法會有兩個問題\n",
    "# 1.雖然h使用了極小的值，但這樣反而會造成捨去誤差(rounding error)，也就是小數的一部分範圍會被捨去，以python為例\n",
    "print(np.float32(1e-50)) # 會得到0.0，使用太小的值，電腦在運算時會出現問題，這邊會把h改為1e-4\n",
    "# 2.上面函數計算了x+h和x的差分，但這個方法本身就會造成誤差\n",
    "# \"真微分\"是對應x位置的斜率(切線)，但上面函數計算的卻是x+h和x的斜率，這個差異是因為h無法無限趨近於0所造成!!\n",
    "\n",
    "# 因此計算x+h和x-h的差分可以減少誤差，這種差分稱為中央差分(x+h和x的差分稱為前差分)，改善兩個問題後的函數如下\n",
    "def numerical_diff(f, x):\n",
    "    h = 1e-4\n",
    "    return (f(x+h) - f(x-h)) / (2*h)\n"
   ]
  },
  {
   "cell_type": "code",
   "execution_count": 22,
   "metadata": {},
   "outputs": [
    {
     "data": {
      "image/png": "[encoded data removed]",
      "text/plain": [
       "<matplotlib.figure.Figure at 0x230e4f94400>"
      ]
     },
     "metadata": {},
     "output_type": "display_data"
    },
    {
     "name": "stdout",
     "output_type": "stream",
     "text": [
      "0.1999999999990898\n",
      "0.2999999999986347\n"
     ]
    }
   ],
   "source": [
    "import numpy as np\n",
    "import matplotlib.pylab as plt\n",
    "\n",
    "# 來看個範例 y = 0.01 * x^2 + 0.1 * x\n",
    "def func1(x):\n",
    "    return 0.01*x**2 + 0.1*x\n",
    "\n",
    "\n",
    "x = np.arange(0.0, 20.0, 0.1)\n",
    "y = func1(x)\n",
    "plt.xlabel(\"x\")\n",
    "plt.ylabel(\"f(x)\")\n",
    "plt.plot(x,y)\n",
    "plt.show()\n",
    "\n",
    "# 來看對應x=5和x=10的微分值，用數值微分的方式來計算\n",
    "print(numerical_diff(func1, 5)) # 趨近於0.2\n",
    "print(numerical_diff(func1, 10)) # 趨近於0.3\n",
    "\n",
    "# 如果用解析解的方式來計算微分值\n",
    "# 解析解的意思就是先對函數做微分，以上例來看y = 0.01 * x^2 + 0.1 * x，會變成dy/dx = 0.02*x + 0.1\n",
    "# 這時候代入x=5和x=10會分別得到0.2和0.3的值，與用數值微分的方式計算的值幾乎等同，因誤差非常小，所以用程式計算時都用數值微分來計算\n"
   ]
  },
  {
   "cell_type": "code",
   "execution_count": 25,
   "metadata": {},
   "outputs": [
    {
     "name": "stdout",
     "output_type": "stream",
     "text": [
      "0.1999999999990898\n"
     ]
    },
    {
     "data": {
      "image/png": "[encoded data removed]",
      "text/plain": [
       "<matplotlib.figure.Figure at 0x230e4dff8d0>"
      ]
     },
     "metadata": {},
     "output_type": "display_data"
    }
   ],
   "source": [
    "# 畫出切線\n",
    "# 還不是很清楚式怎麼畫的...\n",
    "def tangent_line(f, x):\n",
    "    d = numerical_diff(f, x)\n",
    "    print(d)\n",
    "    y = f(x) - d*x\n",
    "    return lambda t: d*t + y # 回傳一個function，t就是該function會傳進來的參數\n",
    "     \n",
    "x = np.arange(0.0, 20.0, 0.1)\n",
    "y = func1(x)\n",
    "plt.xlabel(\"x\")\n",
    "plt.ylabel(\"f(x)\")\n",
    "\n",
    "tf = tangent_line(func1, 5)\n",
    "y2 = tf(x) # 這個x就是上面提到function傳進來的參數\n",
    "\n",
    "plt.plot(x, y)\n",
    "plt.plot(x, y2)\n",
    "plt.show()"
   ]
  },
  {
   "cell_type": "markdown",
   "metadata": {},
   "source": [
    "# 5.偏微分"
   ]
  },
  {
   "cell_type": "code",
   "execution_count": 28,
   "metadata": {},
   "outputs": [
    {
     "name": "stdout",
     "output_type": "stream",
     "text": [
      "6.00000000000378\n",
      "7.999999999999119\n"
     ]
    }
   ],
   "source": [
    "# f(x0, x1) = x0^2 + x1^2\n",
    "# 用程式來實現\n",
    "def func2(x):\n",
    "    return x[0]**2 + x[1]**2\n",
    "    # return np.sum(x**2) # 可應付更多變數的狀況\n",
    "    \n",
    "# 要對這個函數進行微分時，就會考慮到要對哪個變數做微分，因此由多個變數組成的函數微分就是偏微分\n",
    "# 偏微分是在多個變數中，鎖定某個變數，將其他變數固定成某數值\n",
    "# 當x0 = 3，x1 = 4時，計算x0的偏微分\n",
    "def func_par1(x0):\n",
    "    return x0**2 + 4.0**2 \n",
    "print(numerical_diff(func_par1, 3.0))\n",
    "\n",
    "# 當x0 = 3，x1 = 4時，計算x1的偏微分\n",
    "def func_par2(x1):\n",
    "    return 3.0**2 + x1**2 \n",
    "print(numerical_diff(func_par2, 4.0))\n"
   ]
  },
  {
   "cell_type": "markdown",
   "metadata": {},
   "source": [
    "# 6.梯度!!!"
   ]
  },
  {
   "cell_type": "code",
   "execution_count": 62,
   "metadata": {},
   "outputs": [
    {
     "name": "stdout",
     "output_type": "stream",
     "text": [
      "[[0]\n",
      " [0]]\n",
      "[0 0] \n",
      "\n",
      "[6. 8.] \n",
      "\n",
      "[0. 4.]\n"
     ]
    }
   ],
   "source": [
    "# 要統一進行(x0, x1)的偏微分時，等於是計算(df/dx0, df/dx1)，這邊因為沒辦法打出偏微分的表達符號，所以還是用d來表示\n",
    "# 這種把函數裡全部變數的偏微分當作向量的方式就稱為 \"梯度\"!!!\n",
    "print(np.zeros_like(np.array([[0],[2]])))\n",
    "print(np.zeros_like(np.array([0,2])),'\\n')\n",
    "# 來用程式定義一下吧~\n",
    "def num_gra(f, x):\n",
    "    h = 1e-4 # 0.0001\n",
    "    grad = np.zeros_like(x) # 產生和x相同形狀的陣列，element都是0\n",
    "    # grad = np.zeros(x.shape)\n",
    "    \n",
    "    for idx in range(x.size):\n",
    "        tmp_val = x[idx]\n",
    "        x[idx] = tmp_val + h\n",
    "        fxh1 = f(x) # f(x+h)\n",
    "\n",
    "        x[idx] = tmp_val - h \n",
    "        fxh2 = f(x) # f(x-h)\n",
    "        grad[idx] = (fxh1 - fxh2) / (2*h)\n",
    "\n",
    "        x[idx] = tmp_val # 回復原值\n",
    "        \n",
    "    return grad\n",
    "# 因為輸入的X陣列有可能不是一維的\n",
    "def numerical_gradient(f, X):\n",
    "    if X.ndim == 1:\n",
    "        return num_gra(f, X)\n",
    "    else:\n",
    "        grad = np.zeros_like(X)\n",
    "        \n",
    "        for idx, x in enumerate(X):\n",
    "            grad[idx] = num_gra(f, x)\n",
    "        \n",
    "        return grad\n",
    "\n",
    "print(numerical_gradient(func2,np.array([3.0, 4.0])),'\\n')\n",
    "print(numerical_gradient(func2,np.array([0.0, 2.0])))"
   ]
  },
  {
   "cell_type": "code",
   "execution_count": null,
   "metadata": {
    "collapsed": true
   },
   "outputs": [],
   "source": [
    "# 梯度的向量基本上指向最低的位置，但實際上卻不一定如此\n",
    "# 比較準確的說法是，梯度顯示的方向是，函數值減少最多的方向!!!\n",
    "# 在學習神經網路時，就是要找到最適合的參數，也就是損失函數值最小的參數\n",
    "# 但損失函數一般很複雜而且參數空間太大，因此善用梯度，盡量找出損失函數的最小值，就是所謂的梯度法\n",
    "\n",
    "# 因為前面有提到的，梯度是在各個位置，指出函數值減少最多的方向，所以不一定指出的位置就是最小值，甚至方向也不一定對!!\n",
    "# 函數的極小值、最小值、鞍點(saddle point)，梯度都為0，所以也有可能用梯度法找到的結果是除了最小值以外的結果\n",
    "# 因為梯度法是會隨著要找出最小值獲最大值而變化，若要找出最小值時，稱作梯度下降法(gradient descent method)，\n",
    "# 反之就是梯度上升法，但其實只差在正負號的反轉，所以本質上是沒有差別的\n"
   ]
  },
  {
   "cell_type": "markdown",
   "metadata": {},
   "source": [
    "# 7.梯度下降法"
   ]
  },
  {
   "cell_type": "code",
   "execution_count": 50,
   "metadata": {
    "scrolled": true
   },
   "outputs": [
    {
     "name": "stdout",
     "output_type": "stream",
     "text": [
      "(array([-6.11110793e-10,  8.14814391e-10]), array([[-3.00000000e+00,  4.00000000e+00],\n",
      "       [-2.40000000e+00,  3.20000000e+00],\n",
      "       [-1.92000000e+00,  2.56000000e+00],\n",
      "       [-1.53600000e+00,  2.04800000e+00],\n",
      "       [-1.22880000e+00,  1.63840000e+00],\n",
      "       [-9.83040000e-01,  1.31072000e+00],\n",
      "       [-7.86432000e-01,  1.04857600e+00],\n",
      "       [-6.29145600e-01,  8.38860800e-01],\n",
      "       [-5.03316480e-01,  6.71088640e-01],\n",
      "       [-4.02653184e-01,  5.36870912e-01],\n",
      "       [-3.22122547e-01,  4.29496730e-01],\n",
      "       [-2.57698038e-01,  3.43597384e-01],\n",
      "       [-2.06158430e-01,  2.74877907e-01],\n",
      "       [-1.64926744e-01,  2.19902326e-01],\n",
      "       [-1.31941395e-01,  1.75921860e-01],\n",
      "       [-1.05553116e-01,  1.40737488e-01],\n",
      "       [-8.44424930e-02,  1.12589991e-01],\n",
      "       [-6.75539944e-02,  9.00719925e-02],\n",
      "       [-5.40431955e-02,  7.20575940e-02],\n",
      "       [-4.32345564e-02,  5.76460752e-02],\n",
      "       [-3.45876451e-02,  4.61168602e-02],\n",
      "       [-2.76701161e-02,  3.68934881e-02],\n",
      "       [-2.21360929e-02,  2.95147905e-02],\n",
      "       [-1.77088743e-02,  2.36118324e-02],\n",
      "       [-1.41670994e-02,  1.88894659e-02],\n",
      "       [-1.13336796e-02,  1.51115727e-02],\n",
      "       [-9.06694365e-03,  1.20892582e-02],\n",
      "       [-7.25355492e-03,  9.67140656e-03],\n",
      "       [-5.80284393e-03,  7.73712525e-03],\n",
      "       [-4.64227515e-03,  6.18970020e-03],\n",
      "       [-3.71382012e-03,  4.95176016e-03],\n",
      "       [-2.97105609e-03,  3.96140813e-03],\n",
      "       [-2.37684488e-03,  3.16912650e-03],\n",
      "       [-1.90147590e-03,  2.53530120e-03],\n",
      "       [-1.52118072e-03,  2.02824096e-03],\n",
      "       [-1.21694458e-03,  1.62259277e-03],\n",
      "       [-9.73555661e-04,  1.29807421e-03],\n",
      "       [-7.78844529e-04,  1.03845937e-03],\n",
      "       [-6.23075623e-04,  8.30767497e-04],\n",
      "       [-4.98460498e-04,  6.64613998e-04],\n",
      "       [-3.98768399e-04,  5.31691198e-04],\n",
      "       [-3.19014719e-04,  4.25352959e-04],\n",
      "       [-2.55211775e-04,  3.40282367e-04],\n",
      "       [-2.04169420e-04,  2.72225894e-04],\n",
      "       [-1.63335536e-04,  2.17780715e-04],\n",
      "       [-1.30668429e-04,  1.74224572e-04],\n",
      "       [-1.04534743e-04,  1.39379657e-04],\n",
      "       [-8.36277945e-05,  1.11503726e-04],\n",
      "       [-6.69022356e-05,  8.92029808e-05],\n",
      "       [-5.35217885e-05,  7.13623846e-05],\n",
      "       [-4.28174308e-05,  5.70899077e-05],\n",
      "       [-3.42539446e-05,  4.56719262e-05],\n",
      "       [-2.74031557e-05,  3.65375409e-05],\n",
      "       [-2.19225246e-05,  2.92300327e-05],\n",
      "       [-1.75380196e-05,  2.33840262e-05],\n",
      "       [-1.40304157e-05,  1.87072210e-05],\n",
      "       [-1.12243326e-05,  1.49657768e-05],\n",
      "       [-8.97946606e-06,  1.19726214e-05],\n",
      "       [-7.18357285e-06,  9.57809713e-06],\n",
      "       [-5.74685828e-06,  7.66247770e-06],\n",
      "       [-4.59748662e-06,  6.12998216e-06],\n",
      "       [-3.67798930e-06,  4.90398573e-06],\n",
      "       [-2.94239144e-06,  3.92318858e-06],\n",
      "       [-2.35391315e-06,  3.13855087e-06],\n",
      "       [-1.88313052e-06,  2.51084069e-06],\n",
      "       [-1.50650442e-06,  2.00867256e-06],\n",
      "       [-1.20520353e-06,  1.60693804e-06],\n",
      "       [-9.64162827e-07,  1.28555044e-06],\n",
      "       [-7.71330261e-07,  1.02844035e-06],\n",
      "       [-6.17064209e-07,  8.22752279e-07],\n",
      "       [-4.93651367e-07,  6.58201823e-07],\n",
      "       [-3.94921094e-07,  5.26561458e-07],\n",
      "       [-3.15936875e-07,  4.21249167e-07],\n",
      "       [-2.52749500e-07,  3.36999333e-07],\n",
      "       [-2.02199600e-07,  2.69599467e-07],\n",
      "       [-1.61759680e-07,  2.15679573e-07],\n",
      "       [-1.29407744e-07,  1.72543659e-07],\n",
      "       [-1.03526195e-07,  1.38034927e-07],\n",
      "       [-8.28209562e-08,  1.10427942e-07],\n",
      "       [-6.62567649e-08,  8.83423532e-08],\n",
      "       [-5.30054119e-08,  7.06738826e-08],\n",
      "       [-4.24043296e-08,  5.65391061e-08],\n",
      "       [-3.39234636e-08,  4.52312849e-08],\n",
      "       [-2.71387709e-08,  3.61850279e-08],\n",
      "       [-2.17110167e-08,  2.89480223e-08],\n",
      "       [-1.73688134e-08,  2.31584178e-08],\n",
      "       [-1.38950507e-08,  1.85267343e-08],\n",
      "       [-1.11160406e-08,  1.48213874e-08],\n",
      "       [-8.89283245e-09,  1.18571099e-08],\n",
      "       [-7.11426596e-09,  9.48568795e-09],\n",
      "       [-5.69141277e-09,  7.58855036e-09],\n",
      "       [-4.55313022e-09,  6.07084029e-09],\n",
      "       [-3.64250417e-09,  4.85667223e-09],\n",
      "       [-2.91400334e-09,  3.88533778e-09],\n",
      "       [-2.33120267e-09,  3.10827023e-09],\n",
      "       [-1.86496214e-09,  2.48661618e-09],\n",
      "       [-1.49196971e-09,  1.98929295e-09],\n",
      "       [-1.19357577e-09,  1.59143436e-09],\n",
      "       [-9.54860614e-10,  1.27314749e-09],\n",
      "       [-7.63888491e-10,  1.01851799e-09]]))\n"
     ]
    }
   ],
   "source": [
    "# 用算式來表達梯度下降法，其中lr代表學習率，學習率會決定每一次學習時要更新多少參數，一開始必須先決定一個數值0.01或0.0001\n",
    "# 學習率太大或太小都不好，太大的話會使誤差超過太多，導致無法收斂，太小的話，收斂速度太慢!!\n",
    "# x0 = x0 - lr * (df/dx0)\n",
    "# x1 = x1 - lr * (df/dx1)\n",
    "def gradient_descent(f, init_x, lr=0.01, step_num=100):\n",
    "    x = init_x\n",
    "    x_history = []\n",
    "\n",
    "    for i in range(step_num):\n",
    "        x_history.append(x.copy())\n",
    "\n",
    "        grad = numerical_gradient(f, x)\n",
    "        x -= lr * grad # x = x - lr * grad\n",
    "\n",
    "    return x, np.array(x_history)\n",
    "\n",
    "def func2(x):\n",
    "    return x[0]**2 + x[1]**2\n",
    "\n",
    "init_x = np.array([-3.0, 4.0])\n",
    "print(gradient_descent(func2, init_x=init_x, lr=0.1)) # array([-6.11110793e-10,  8.14814391e-10]) 趨近於(0,0)\n",
    "# 可以自行試試看把learning rate調很大或很小試試看會發生甚麼事情\n",
    "\n",
    "# 像學習率這種參數稱為超參數(hyperparameter)，與神經網路的weight或bias不一樣，這些是在學習中自動產生的參數，\n",
    "# 超參數則是由人工設定，經過多次試驗找出最適合的參數"
   ]
  },
  {
   "cell_type": "markdown",
   "metadata": {},
   "source": [
    "# 8.神經網路的梯度"
   ]
  },
  {
   "cell_type": "code",
   "execution_count": 70,
   "metadata": {},
   "outputs": [
    {
     "name": "stdout",
     "output_type": "stream",
     "text": [
      "初始權重:  [[ 1.29820283 -1.14351756 -0.2620714 ]\n",
      " [-1.41530177 -0.25038932 -0.40462839]]\n",
      "預測結果:  [-0.4948499  -0.91146092 -0.52140839]\n",
      "最大值的index:  0\n",
      "損失函數值:  0.9947080794793444\n",
      "梯度:  [[ 0.22787097  0.15023016 -0.37810112]\n",
      " [ 0.34180645  0.22534524 -0.56715169]]\n"
     ]
    }
   ],
   "source": [
    "# 這邊要以一個最簡單的一層神經網路為例，沒有任何的隱藏層(hidden layer)\n",
    "# 所以也會用到第二章提到的activation function和矩陣運算等等概念\n",
    "\n",
    "# 第二章提到的softmax方法，輸出層使用的活化函數，用在分類問題上\n",
    "def softmax(a):\n",
    "    c = np.max(a)\n",
    "    exp_a = np.exp(a - c)\n",
    "    sum_exp_a = np.sum(exp_a)\n",
    "    y = exp_a / sum_exp_a\n",
    "    return y\n",
    "\n",
    "# 前面提到的損失函數cross_entropy_error\n",
    "def cross_entropy_error(y, t):\n",
    "    delta = 1e-7 # 0.0000001\n",
    "    return -np.sum(t * np.log(y + delta))\n",
    "\n",
    "class simpleNet:\n",
    "    def __init__(self):\n",
    "        self.W = np.random.randn(2,3) # 以常態分佈初始化權重\n",
    "        \n",
    "    def predict(self, x):\n",
    "        return np.dot(x, self.W)\n",
    "    \n",
    "    def loss(self, x, t):\n",
    "        z = self.predict(x)\n",
    "        y = softmax(z)\n",
    "        loss = cross_entropy_error(y, t)\n",
    "        \n",
    "        return loss\n",
    "\n",
    "net = simpleNet()\n",
    "print('初始權重: ',net.W)\n",
    "x = np.array([0.6, 0.9])\n",
    "p = net.predict(x)\n",
    "print('預測結果: ',p)\n",
    "print('最大值的index: ',np.argmax(p))\n",
    "t = np.array([0, 0, 1])\n",
    "print('損失函數值: ',net.loss(x, t))\n",
    "\n",
    "# 接著要計算梯度，這裡用了個無用的W參數，因為numerical_gradient(f, x)在函數裡執行f(x)，所以要定義f(W)才有整合性\n",
    "f = lambda w: net.loss(x, t)\n",
    "\n",
    "graW = numerical_gradient(f, net.W)\n",
    "print('梯度: ',graW) # 得到的結果最左上角的代表，改變那個權重會影響整個function的變化量\n",
    "# 之後只要以梯度下降法更新梯度即可找到最佳權重!"
   ]
  },
  {
   "cell_type": "markdown",
   "metadata": {},
   "source": [
    "# 9.學習演算法"
   ]
  },
  {
   "cell_type": "code",
   "execution_count": null,
   "metadata": {
    "collapsed": true
   },
   "outputs": [],
   "source": [
    "# step1(小批次) ==> 從訓練資料中隨機挑選部分資料稱做小批次，此步驟以減少小批次的損失函數為目標\n",
    "# step2(計算梯度) ==> 為了減少小批次的損失函數，計算各權重參數的梯度，梯度表示損失函數減少最多的方向\n",
    "# step3(更新參數) ==> 權重參數往梯度方向更新\n",
    "# 重複上述步驟\n",
    "# 這裡使用的是 \"準確率梯度下降法\" (stochastic gradient descent)，準確率代表準確隨機挑選，縮寫SGD"
   ]
  },
  {
   "cell_type": "code",
   "execution_count": 6,
   "metadata": {
    "collapsed": true
   },
   "outputs": [],
   "source": [
    "# 雙層神經網路的示範，一個隱藏層\n",
    "class TwoLayerNet:\n",
    "    # 權重初始化\n",
    "    def __init__(self, input_size, hidden_size, output_size, weight_init_std=0.01):\n",
    "        self.params = {}\n",
    "        # W1的shape是input_size*hidden_size，才可以和input矩陣做相乘\n",
    "        self.params['W1'] = weight_init_std * np.random.randn(input_size, hidden_size)\n",
    "        self.params['b1'] = np.zeros(hidden_size)\n",
    "        self.params['W2'] = weight_init_std * np.random.randn(hidden_size, output_size)\n",
    "        self.params['b2'] = np.zeros(output_size)\n",
    "    \n",
    "    def predict(self, x):\n",
    "        W1, W2 = self.params['W1'], self.params['W2']\n",
    "        b1, b2 = self.params['b1'], self.params['b2']\n",
    "    \n",
    "        a1 = np.dot(x, W1) + b1\n",
    "        z1 = sigmoid(a1)\n",
    "        a2 = np.dot(z1, W2) + b2\n",
    "        y = softmax(a2)\n",
    "        \n",
    "        return y\n",
    "        \n",
    "    # x:輸入資料，t:訓練資料(正確標籤)\n",
    "    def loss(self, x, t):\n",
    "        y = self.predict(x)\n",
    "        \n",
    "        return cross_entropy_error(y, t)\n",
    "    \n",
    "    def accuracy(self, x, t):\n",
    "        y = self.predict(x)\n",
    "        y = np.argmax(y, axis=1)\n",
    "        t = np.argmax(t, axis=1)\n",
    "        \n",
    "        accuracy = np.sum(y == t) / float(x.shape[0])\n",
    "        return accuracy\n",
    "        \n",
    "    # x:輸入資料，t:訓練資料(正確標籤)\n",
    "    def numerical_gradient(self, x, t):\n",
    "        loss_W = lambda W: self.loss(x, t)\n",
    "        \n",
    "        grads = {}\n",
    "        grads['W1'] = numerical_gradient(loss_W, self.params['W1'])\n",
    "        grads['b1'] = numerical_gradient(loss_W, self.params['b1'])\n",
    "        grads['W2'] = numerical_gradient(loss_W, self.params['W2'])\n",
    "        grads['b2'] = numerical_gradient(loss_W, self.params['b2'])\n",
    "        \n",
    "        return grads\n",
    "        \n",
    "    def gradient(self, x, t):\n",
    "        W1, W2 = self.params['W1'], self.params['W2']\n",
    "        b1, b2 = self.params['b1'], self.params['b2']\n",
    "        grads = {}\n",
    "        \n",
    "        batch_num = x.shape[0]\n",
    "        \n",
    "        # forward\n",
    "        a1 = np.dot(x, W1) + b1\n",
    "        z1 = sigmoid(a1)\n",
    "        a2 = np.dot(z1, W2) + b2\n",
    "        y = softmax(a2)\n",
    "        \n",
    "        # backward\n",
    "#         dy = (y - t) / batch_num\n",
    "#         grads['W2'] = np.dot(z1.T, dy)\n",
    "#         grads['b2'] = np.sum(dy, axis=0)\n",
    "        \n",
    "#         da1 = np.dot(dy, W2.T)\n",
    "#         dz1 = sigmoid_grad(a1) * da1\n",
    "#         grads['W1'] = np.dot(x.T, dz1)\n",
    "#         grads['b1'] = np.sum(dz1, axis=0)\n",
    "\n",
    "        return grads"
   ]
  },
  {
   "cell_type": "code",
   "execution_count": 4,
   "metadata": {},
   "outputs": [
    {
     "name": "stdout",
     "output_type": "stream",
     "text": [
      "Extracting MNIST_data/train-images-idx3-ubyte.gz\n",
      "Extracting MNIST_data/train-labels-idx1-ubyte.gz\n",
      "Extracting MNIST_data/t10k-images-idx3-ubyte.gz\n",
      "Extracting MNIST_data/t10k-labels-idx1-ubyte.gz\n",
      "(55000, 784)\n",
      "(55000, 10)\n",
      "(10000, 784)\n",
      "(10000, 10)\n"
     ]
    }
   ],
   "source": [
    "# 載入資料集\n",
    "import numpy as np\n",
    "from tensorflow.examples.tutorials.mnist import input_data\n",
    "mnist = input_data.read_data_sets(\"MNIST_data/\", one_hot=True)\n",
    "x_train = mnist.train.images\n",
    "t_train = mnist.train.labels\n",
    "x_test = mnist.test.images\n",
    "t_test = mnist.test.labels\n",
    "# (x_train, t_train), (x_test, t_test) = load_mnist(normalize=True, one_hot_label=True)\n",
    "print(x_train.shape)\n",
    "print(t_train.shape)\n",
    "print(x_test.shape)\n",
    "print(t_test.shape)"
   ]
  },
  {
   "cell_type": "code",
   "execution_count": 8,
   "metadata": {
    "collapsed": true
   },
   "outputs": [],
   "source": [
    "def _numerical_gradient_1d(f, x):\n",
    "    h = 1e-4 # 0.0001\n",
    "    grad = np.zeros_like(x)\n",
    "    \n",
    "    for idx in range(x.size):\n",
    "        tmp_val = x[idx]\n",
    "        x[idx] = float(tmp_val) + h\n",
    "        fxh1 = f(x) # f(x+h)\n",
    "        \n",
    "        x[idx] = tmp_val - h \n",
    "        fxh2 = f(x) # f(x-h)\n",
    "        grad[idx] = (fxh1 - fxh2) / (2*h)\n",
    "        \n",
    "        x[idx] = tmp_val # 値を元に戻す\n",
    "        \n",
    "    return grad\n",
    "\n",
    "\n",
    "def numerical_gradient_2d(f, X):\n",
    "    if X.ndim == 1:\n",
    "        return _numerical_gradient_1d(f, X)\n",
    "    else:\n",
    "        grad = np.zeros_like(X)\n",
    "        \n",
    "        for idx, x in enumerate(X):\n",
    "            grad[idx] = _numerical_gradient_1d(f, x)\n",
    "        \n",
    "        return grad\n",
    "\n",
    "\n",
    "def numerical_gradient(f, x):\n",
    "    h = 1e-4 # 0.0001\n",
    "    grad = np.zeros_like(x)\n",
    "    \n",
    "    it = np.nditer(x, flags=['multi_index'], op_flags=['readwrite'])\n",
    "    while not it.finished:\n",
    "        idx = it.multi_index\n",
    "        tmp_val = x[idx]\n",
    "        x[idx] = float(tmp_val) + h\n",
    "        fxh1 = f(x) # f(x+h)\n",
    "        \n",
    "        x[idx] = tmp_val - h \n",
    "        fxh2 = f(x) # f(x-h)\n",
    "        grad[idx] = (fxh1 - fxh2) / (2*h)\n",
    "        \n",
    "        x[idx] = tmp_val # 値を元に戻す\n",
    "        it.iternext()   \n",
    "        \n",
    "    return grad"
   ]
  },
  {
   "cell_type": "code",
   "execution_count": 14,
   "metadata": {
    "collapsed": true
   },
   "outputs": [],
   "source": [
    "def sigmoid(x):\n",
    "    return 1 / (1 + np.exp(-x)) \n",
    "\n",
    "def softmax(x):\n",
    "    if x.ndim == 2:\n",
    "        x = x.T\n",
    "        x = x - np.max(x, axis=0)\n",
    "        y = np.exp(x) / np.sum(np.exp(x), axis=0)\n",
    "        return y.T \n",
    "\n",
    "    x = x - np.max(x) # オーバーフロー対策\n",
    "    return np.exp(x) / np.sum(np.exp(x))\n",
    "\n",
    "def cross_entropy_error(y, t):\n",
    "    if y.ndim == 1:\n",
    "        t = t.reshape(1, t.size)\n",
    "        y = y.reshape(1, y.size)\n",
    "        \n",
    "    # 教師データがone-hot-vectorの場合、正解ラベルのインデックスに変換\n",
    "    if t.size == y.size:\n",
    "        t = t.argmax(axis=1)\n",
    "             \n",
    "    batch_size = y.shape[0]\n",
    "    return -np.sum(np.log(y[np.arange(batch_size), t] + 1e-7)) / batch_size"
   ]
  },
  {
   "cell_type": "code",
   "execution_count": 15,
   "metadata": {},
   "outputs": [
    {
     "name": "stdout",
     "output_type": "stream",
     "text": [
      "train acc, test acc | 0.11234545454545454, 0.1135\n"
     ]
    },
    {
     "ename": "KeyboardInterrupt",
     "evalue": "",
     "output_type": "error",
     "traceback": [
      "\u001b[1;31m---------------------------------------------------------------------------\u001b[0m",
      "\u001b[1;31mKeyboardInterrupt\u001b[0m                         Traceback (most recent call last)",
      "\u001b[1;32m<ipython-input-15-ee25314d6089>\u001b[0m in \u001b[0;36m<module>\u001b[1;34m()\u001b[0m\n\u001b[0;32m     21\u001b[0m \u001b[1;33m\u001b[0m\u001b[0m\n\u001b[0;32m     22\u001b[0m     \u001b[1;31m# 計算梯度\u001b[0m\u001b[1;33m\u001b[0m\u001b[1;33m\u001b[0m\u001b[0m\n\u001b[1;32m---> 23\u001b[1;33m     \u001b[0mgrad\u001b[0m \u001b[1;33m=\u001b[0m \u001b[0mnetwork\u001b[0m\u001b[1;33m.\u001b[0m\u001b[0mnumerical_gradient\u001b[0m\u001b[1;33m(\u001b[0m\u001b[0mx_batch\u001b[0m\u001b[1;33m,\u001b[0m \u001b[0mt_batch\u001b[0m\u001b[1;33m)\u001b[0m\u001b[1;33m\u001b[0m\u001b[0m\n\u001b[0m\u001b[0;32m     24\u001b[0m \u001b[1;31m#     grad = network.gradient(x_batch, t_batch) # 反向傳播法\u001b[0m\u001b[1;33m\u001b[0m\u001b[1;33m\u001b[0m\u001b[0m\n\u001b[0;32m     25\u001b[0m \u001b[1;33m\u001b[0m\u001b[0m\n",
      "\u001b[1;32m<ipython-input-6-4c0a9b862053>\u001b[0m in \u001b[0;36mnumerical_gradient\u001b[1;34m(self, x, t)\u001b[0m\n\u001b[0;32m     40\u001b[0m \u001b[1;33m\u001b[0m\u001b[0m\n\u001b[0;32m     41\u001b[0m         \u001b[0mgrads\u001b[0m \u001b[1;33m=\u001b[0m \u001b[1;33m{\u001b[0m\u001b[1;33m}\u001b[0m\u001b[1;33m\u001b[0m\u001b[0m\n\u001b[1;32m---> 42\u001b[1;33m         \u001b[0mgrads\u001b[0m\u001b[1;33m[\u001b[0m\u001b[1;34m'W1'\u001b[0m\u001b[1;33m]\u001b[0m \u001b[1;33m=\u001b[0m \u001b[0mnumerical_gradient\u001b[0m\u001b[1;33m(\u001b[0m\u001b[0mloss_W\u001b[0m\u001b[1;33m,\u001b[0m \u001b[0mself\u001b[0m\u001b[1;33m.\u001b[0m\u001b[0mparams\u001b[0m\u001b[1;33m[\u001b[0m\u001b[1;34m'W1'\u001b[0m\u001b[1;33m]\u001b[0m\u001b[1;33m)\u001b[0m\u001b[1;33m\u001b[0m\u001b[0m\n\u001b[0m\u001b[0;32m     43\u001b[0m         \u001b[0mgrads\u001b[0m\u001b[1;33m[\u001b[0m\u001b[1;34m'b1'\u001b[0m\u001b[1;33m]\u001b[0m \u001b[1;33m=\u001b[0m \u001b[0mnumerical_gradient\u001b[0m\u001b[1;33m(\u001b[0m\u001b[0mloss_W\u001b[0m\u001b[1;33m,\u001b[0m \u001b[0mself\u001b[0m\u001b[1;33m.\u001b[0m\u001b[0mparams\u001b[0m\u001b[1;33m[\u001b[0m\u001b[1;34m'b1'\u001b[0m\u001b[1;33m]\u001b[0m\u001b[1;33m)\u001b[0m\u001b[1;33m\u001b[0m\u001b[0m\n\u001b[0;32m     44\u001b[0m         \u001b[0mgrads\u001b[0m\u001b[1;33m[\u001b[0m\u001b[1;34m'W2'\u001b[0m\u001b[1;33m]\u001b[0m \u001b[1;33m=\u001b[0m \u001b[0mnumerical_gradient\u001b[0m\u001b[1;33m(\u001b[0m\u001b[0mloss_W\u001b[0m\u001b[1;33m,\u001b[0m \u001b[0mself\u001b[0m\u001b[1;33m.\u001b[0m\u001b[0mparams\u001b[0m\u001b[1;33m[\u001b[0m\u001b[1;34m'W2'\u001b[0m\u001b[1;33m]\u001b[0m\u001b[1;33m)\u001b[0m\u001b[1;33m\u001b[0m\u001b[0m\n",
      "\u001b[1;32m<ipython-input-8-15bfd35f08b6>\u001b[0m in \u001b[0;36mnumerical_gradient\u001b[1;34m(f, x)\u001b[0m\n\u001b[0;32m     38\u001b[0m         \u001b[0mtmp_val\u001b[0m \u001b[1;33m=\u001b[0m \u001b[0mx\u001b[0m\u001b[1;33m[\u001b[0m\u001b[0midx\u001b[0m\u001b[1;33m]\u001b[0m\u001b[1;33m\u001b[0m\u001b[0m\n\u001b[0;32m     39\u001b[0m         \u001b[0mx\u001b[0m\u001b[1;33m[\u001b[0m\u001b[0midx\u001b[0m\u001b[1;33m]\u001b[0m \u001b[1;33m=\u001b[0m \u001b[0mfloat\u001b[0m\u001b[1;33m(\u001b[0m\u001b[0mtmp_val\u001b[0m\u001b[1;33m)\u001b[0m \u001b[1;33m+\u001b[0m \u001b[0mh\u001b[0m\u001b[1;33m\u001b[0m\u001b[0m\n\u001b[1;32m---> 40\u001b[1;33m         \u001b[0mfxh1\u001b[0m \u001b[1;33m=\u001b[0m \u001b[0mf\u001b[0m\u001b[1;33m(\u001b[0m\u001b[0mx\u001b[0m\u001b[1;33m)\u001b[0m \u001b[1;31m# f(x+h)\u001b[0m\u001b[1;33m\u001b[0m\u001b[0m\n\u001b[0m\u001b[0;32m     41\u001b[0m \u001b[1;33m\u001b[0m\u001b[0m\n\u001b[0;32m     42\u001b[0m         \u001b[0mx\u001b[0m\u001b[1;33m[\u001b[0m\u001b[0midx\u001b[0m\u001b[1;33m]\u001b[0m \u001b[1;33m=\u001b[0m \u001b[0mtmp_val\u001b[0m \u001b[1;33m-\u001b[0m \u001b[0mh\u001b[0m\u001b[1;33m\u001b[0m\u001b[0m\n",
      "\u001b[1;32m<ipython-input-6-4c0a9b862053>\u001b[0m in \u001b[0;36m<lambda>\u001b[1;34m(W)\u001b[0m\n\u001b[0;32m     37\u001b[0m     \u001b[1;31m# x:輸入資料，t:訓練資料(正確標籤)\u001b[0m\u001b[1;33m\u001b[0m\u001b[1;33m\u001b[0m\u001b[0m\n\u001b[0;32m     38\u001b[0m     \u001b[1;32mdef\u001b[0m \u001b[0mnumerical_gradient\u001b[0m\u001b[1;33m(\u001b[0m\u001b[0mself\u001b[0m\u001b[1;33m,\u001b[0m \u001b[0mx\u001b[0m\u001b[1;33m,\u001b[0m \u001b[0mt\u001b[0m\u001b[1;33m)\u001b[0m\u001b[1;33m:\u001b[0m\u001b[1;33m\u001b[0m\u001b[0m\n\u001b[1;32m---> 39\u001b[1;33m         \u001b[0mloss_W\u001b[0m \u001b[1;33m=\u001b[0m \u001b[1;32mlambda\u001b[0m \u001b[0mW\u001b[0m\u001b[1;33m:\u001b[0m \u001b[0mself\u001b[0m\u001b[1;33m.\u001b[0m\u001b[0mloss\u001b[0m\u001b[1;33m(\u001b[0m\u001b[0mx\u001b[0m\u001b[1;33m,\u001b[0m \u001b[0mt\u001b[0m\u001b[1;33m)\u001b[0m\u001b[1;33m\u001b[0m\u001b[0m\n\u001b[0m\u001b[0;32m     40\u001b[0m \u001b[1;33m\u001b[0m\u001b[0m\n\u001b[0;32m     41\u001b[0m         \u001b[0mgrads\u001b[0m \u001b[1;33m=\u001b[0m \u001b[1;33m{\u001b[0m\u001b[1;33m}\u001b[0m\u001b[1;33m\u001b[0m\u001b[0m\n",
      "\u001b[1;32m<ipython-input-6-4c0a9b862053>\u001b[0m in \u001b[0;36mloss\u001b[1;34m(self, x, t)\u001b[0m\n\u001b[0;32m     23\u001b[0m     \u001b[1;31m# x:輸入資料，t:訓練資料(正確標籤)\u001b[0m\u001b[1;33m\u001b[0m\u001b[1;33m\u001b[0m\u001b[0m\n\u001b[0;32m     24\u001b[0m     \u001b[1;32mdef\u001b[0m \u001b[0mloss\u001b[0m\u001b[1;33m(\u001b[0m\u001b[0mself\u001b[0m\u001b[1;33m,\u001b[0m \u001b[0mx\u001b[0m\u001b[1;33m,\u001b[0m \u001b[0mt\u001b[0m\u001b[1;33m)\u001b[0m\u001b[1;33m:\u001b[0m\u001b[1;33m\u001b[0m\u001b[0m\n\u001b[1;32m---> 25\u001b[1;33m         \u001b[0my\u001b[0m \u001b[1;33m=\u001b[0m \u001b[0mself\u001b[0m\u001b[1;33m.\u001b[0m\u001b[0mpredict\u001b[0m\u001b[1;33m(\u001b[0m\u001b[0mx\u001b[0m\u001b[1;33m)\u001b[0m\u001b[1;33m\u001b[0m\u001b[0m\n\u001b[0m\u001b[0;32m     26\u001b[0m \u001b[1;33m\u001b[0m\u001b[0m\n\u001b[0;32m     27\u001b[0m         \u001b[1;32mreturn\u001b[0m \u001b[0mcross_entropy_error\u001b[0m\u001b[1;33m(\u001b[0m\u001b[0my\u001b[0m\u001b[1;33m,\u001b[0m \u001b[0mt\u001b[0m\u001b[1;33m)\u001b[0m\u001b[1;33m\u001b[0m\u001b[0m\n",
      "\u001b[1;32m<ipython-input-6-4c0a9b862053>\u001b[0m in \u001b[0;36mpredict\u001b[1;34m(self, x)\u001b[0m\n\u001b[0;32m     14\u001b[0m         \u001b[0mb1\u001b[0m\u001b[1;33m,\u001b[0m \u001b[0mb2\u001b[0m \u001b[1;33m=\u001b[0m \u001b[0mself\u001b[0m\u001b[1;33m.\u001b[0m\u001b[0mparams\u001b[0m\u001b[1;33m[\u001b[0m\u001b[1;34m'b1'\u001b[0m\u001b[1;33m]\u001b[0m\u001b[1;33m,\u001b[0m \u001b[0mself\u001b[0m\u001b[1;33m.\u001b[0m\u001b[0mparams\u001b[0m\u001b[1;33m[\u001b[0m\u001b[1;34m'b2'\u001b[0m\u001b[1;33m]\u001b[0m\u001b[1;33m\u001b[0m\u001b[0m\n\u001b[0;32m     15\u001b[0m \u001b[1;33m\u001b[0m\u001b[0m\n\u001b[1;32m---> 16\u001b[1;33m         \u001b[0ma1\u001b[0m \u001b[1;33m=\u001b[0m \u001b[0mnp\u001b[0m\u001b[1;33m.\u001b[0m\u001b[0mdot\u001b[0m\u001b[1;33m(\u001b[0m\u001b[0mx\u001b[0m\u001b[1;33m,\u001b[0m \u001b[0mW1\u001b[0m\u001b[1;33m)\u001b[0m \u001b[1;33m+\u001b[0m \u001b[0mb1\u001b[0m\u001b[1;33m\u001b[0m\u001b[0m\n\u001b[0m\u001b[0;32m     17\u001b[0m         \u001b[0mz1\u001b[0m \u001b[1;33m=\u001b[0m \u001b[0msigmoid\u001b[0m\u001b[1;33m(\u001b[0m\u001b[0ma1\u001b[0m\u001b[1;33m)\u001b[0m\u001b[1;33m\u001b[0m\u001b[0m\n\u001b[0;32m     18\u001b[0m         \u001b[0ma2\u001b[0m \u001b[1;33m=\u001b[0m \u001b[0mnp\u001b[0m\u001b[1;33m.\u001b[0m\u001b[0mdot\u001b[0m\u001b[1;33m(\u001b[0m\u001b[0mz1\u001b[0m\u001b[1;33m,\u001b[0m \u001b[0mW2\u001b[0m\u001b[1;33m)\u001b[0m \u001b[1;33m+\u001b[0m \u001b[0mb2\u001b[0m\u001b[1;33m\u001b[0m\u001b[0m\n",
      "\u001b[1;31mKeyboardInterrupt\u001b[0m: "
     ]
    }
   ],
   "source": [
    "\n",
    "\n",
    "network = TwoLayerNet(input_size=784, hidden_size=50, output_size=10)\n",
    "\n",
    "iters_num = 10000  # 梯度法更新迭代的次數\n",
    "train_size = x_train.shape[0]\n",
    "batch_size = 100 # 小批次數量\n",
    "learning_rate = 0.1\n",
    "\n",
    "train_loss_list = []\n",
    "train_acc_list = []\n",
    "test_acc_list = []\n",
    "\n",
    "# 1epoch代表在學習中用完所有資料的次數，10000筆資料做100個小批次學習，此時100次 = 1epoch\n",
    "iter_per_epoch = max(train_size / batch_size, 1)\n",
    "\n",
    "for i in range(iters_num):\n",
    "    batch_mask = np.random.choice(train_size, batch_size)\n",
    "    x_batch = x_train[batch_mask]\n",
    "    t_batch = t_train[batch_mask]\n",
    "    \n",
    "    # 計算梯度\n",
    "    grad = network.numerical_gradient(x_batch, t_batch)\n",
    "#     grad = network.gradient(x_batch, t_batch) # 反向傳播法\n",
    "    \n",
    "    # 更新參數\n",
    "    for key in ('W1', 'b1', 'W2', 'b2'):\n",
    "        network.params[key] -= learning_rate * grad[key]\n",
    "        \n",
    "    # 儲存學習過程的損失函數值\n",
    "    loss = network.loss(x_batch, t_batch)\n",
    "    train_loss_list.append(loss)\n",
    "    \n",
    "    if i % iter_per_epoch == 0:\n",
    "        # 每100次記錄一次訓練資料和測試資料的準確率\n",
    "        train_acc = network.accuracy(x_train, t_train)\n",
    "        test_acc = network.accuracy(x_test, t_test)\n",
    "        train_acc_list.append(train_acc)\n",
    "        test_acc_list.append(test_acc)\n",
    "        print(\"train acc, test acc | \" + str(train_acc) + \", \" + str(test_acc))\n",
    "\n",
    "# 畫圖\n",
    "markers = {'train': 'o', 'test': 's'}\n",
    "x = np.arange(len(train_acc_list))\n",
    "plt.plot(x, train_acc_list, label='train acc')\n",
    "plt.plot(x, test_acc_list, label='test acc', linestyle='--')\n",
    "plt.xlabel(\"epochs\")\n",
    "plt.ylabel(\"accuracy\")\n",
    "plt.ylim(0, 1.0)\n",
    "plt.legend(loc='lower right')\n",
    "plt.show()"
   ]
  }
 ],
 "metadata": {
  "kernelspec": {
   "display_name": "Python 3",
   "language": "python",
   "name": "python3"
  },
  "language_info": {
   "codemirror_mode": {
    "name": "ipython",
    "version": 3
   },
   "file_extension": ".py",
   "mimetype": "text/x-python",
   "name": "python",
   "nbconvert_exporter": "python",
   "pygments_lexer": "ipython3",
   "version": "3.6.1"
  }
 },
 "nbformat": 4,
 "nbformat_minor": 2
}
