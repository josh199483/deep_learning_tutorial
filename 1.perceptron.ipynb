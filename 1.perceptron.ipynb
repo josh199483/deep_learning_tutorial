{
 "cells": [
  {
   "cell_type": "markdown",
   "metadata": {},
   "source": [
    "# 感知器 perceptron"
   ]
  },
  {
   "cell_type": "code",
   "execution_count": null,
   "metadata": {
    "collapsed": true
   },
   "outputs": [],
   "source": [
    "# 是深度學習(神經網路)演算法的基礎\n",
    "# 只要輸入訊號，透過權重和函式的計算，產出輸出\n",
    "# 介紹感知器之前先來看看簡單的邏輯"
   ]
  },
  {
   "cell_type": "code",
   "execution_count": null,
   "metadata": {
    "collapsed": true
   },
   "outputs": [],
   "source": [
    "# 感知器的運作原理可以下面算式表達\n",
    "# y = { 0 (w1*x1+w2*x2 <= theta)\n",
    "#       1 (w1*x1+w2*x2 > theta)}"
   ]
  },
  {
   "cell_type": "markdown",
   "metadata": {},
   "source": [
    "# 1.AND gate(及閘)"
   ]
  },
  {
   "cell_type": "code",
   "execution_count": 1,
   "metadata": {},
   "outputs": [
    {
     "data": {
      "text/plain": [
       "0"
      ]
     },
     "execution_count": 1,
     "metadata": {},
     "output_type": "execute_result"
    }
   ],
   "source": [
    "# x1 x2   y\n",
    "# 0  0    0\n",
    "# 1  0    0\n",
    "# 0  1    0 \n",
    "# 1  1    1\n",
    "# and gate 當兩個輸入皆為1時，y才會輸出1 \n",
    "# 要滿足這個條件，必須決定w1、w2、theta的值，其中有無限多組解，這邊舉例(w1,w2,theta) = (0.5,0.5,0.7)\n",
    "# 這裡定義一個function，來示範AND gate輸入、輸出\n",
    "def AND(x1, x2):\n",
    "    w1, w2, theta = 0.5, 0.5, 0.7\n",
    "    tmp = w1*x1 + w2*x2\n",
    "    if tmp <= theta:\n",
    "        return 0\n",
    "    elif tmp > theta:\n",
    "        return 1\n",
    "AND(1,0)"
   ]
  },
  {
   "cell_type": "markdown",
   "metadata": {},
   "source": [
    "# 2.NAND gate OR gate"
   ]
  },
  {
   "cell_type": "code",
   "execution_count": 3,
   "metadata": {},
   "outputs": [
    {
     "data": {
      "text/plain": [
       "1"
      ]
     },
     "execution_count": 3,
     "metadata": {},
     "output_type": "execute_result"
    }
   ],
   "source": [
    "# NAND gate，與AND gate相反\n",
    "# x1 x2   y\n",
    "# 0  0    1\n",
    "# 1  0    1\n",
    "# 0  1    1 \n",
    "# 1  1    0\n",
    "def NAND(x1, x2):\n",
    "    w1, w2, theta = -0.5, -0.5, -0.7\n",
    "    tmp = w1*x1 + w2*x2\n",
    "    if tmp <= theta:\n",
    "        return 0\n",
    "    elif tmp > theta:\n",
    "        return 1\n",
    "NAND(1,0)\n",
    "\n",
    "## 可自己思考 OR gate該如何實現?這邊就不多說可自行試試看\n",
    "# 只要有一個輸入為1時，就輸出1\n",
    "# x1 x2   y\n",
    "# 0  0    0\n",
    "# 1  0    1\n",
    "# 0  1    1 \n",
    "# 1  1    1"
   ]
  },
  {
   "cell_type": "markdown",
   "metadata": {},
   "source": [
    "# weight and bias"
   ]
  },
  {
   "cell_type": "code",
   "execution_count": 11,
   "metadata": {},
   "outputs": [
    {
     "name": "stdout",
     "output_type": "stream",
     "text": [
      "[ 0.   0.5]\n",
      "0.5\n",
      "-0.2\n",
      "\n",
      " 1\n"
     ]
    }
   ],
   "source": [
    "# 把前面感知器的算式修改一下，導入權重和偏權值的概念\n",
    "# y = { 0 (b + w1*x1 + w2*x2 <= 0)\n",
    "#       1 (b + w1*x1 + w2*x2 > 0)}\n",
    "# 幾乎一模一樣，只是把theta做移項，b為bias，w1、w2為weight\n",
    "import numpy as np \n",
    "x = np.array([0,1]) #input\n",
    "w = np.array([0.5,0.5]) #weight\n",
    "b = -0.7 # bias\n",
    "print(w*x)\n",
    "print(np.sum(w*x))\n",
    "print(np.sum(w*x)+b)\n",
    "# 此時可以把剛剛 AND gate 函式修改一下\n",
    "def AND(x1, x2):\n",
    "    x = np.array([x1, x2])\n",
    "    w = np.array([0.5, 0.5])\n",
    "    b = -0.7\n",
    "    tmp = np.sum(x*w)+b\n",
    "    if tmp <= 0:\n",
    "        return 0\n",
    "    else:\n",
    "        return 1\n",
    "\n",
    "print('\\n',AND(1,1))\n",
    "## w1,w2權重是控制輸入訊號重要程度的參數，b偏權值是負責調整讓函式輸出1的難度!!"
   ]
  },
  {
   "cell_type": "markdown",
   "metadata": {},
   "source": [
    "# 3.XOR gate"
   ]
  },
  {
   "cell_type": "code",
   "execution_count": 15,
   "metadata": {
    "scrolled": true
   },
   "outputs": [
    {
     "name": "stdout",
     "output_type": "stream",
     "text": [
      "0\n",
      "1\n",
      "1\n",
      "0\n"
     ]
    }
   ],
   "source": [
    "def NAND(x1, x2):\n",
    "    x = np.array([x1, x2])\n",
    "    w = np.array([-0.5, -0.5])\n",
    "    b = 0.7\n",
    "    tmp = np.sum(x*w)+b\n",
    "    if tmp <= 0:\n",
    "        return 0\n",
    "    else:\n",
    "        return 1\n",
    "def OR(x1, x2):\n",
    "    x = np.array([x1, x2])\n",
    "    w = np.array([0.5, 0.5])\n",
    "    b = -0.2\n",
    "    tmp = np.sum(x*w)+b\n",
    "    if tmp <= 0:\n",
    "        return 0\n",
    "    else:\n",
    "        return 1\n",
    "# 但感知器是有極限的\n",
    "# 當x1或x2其中之一為1時，輸出1\n",
    "# x1 x2   y\n",
    "# 0  0    0\n",
    "# 1  0    1\n",
    "# 0  1    1 \n",
    "# 1  1    0\n",
    "## 如果前面有嘗試連XOR gate一起實作時會發現找不到一個(w1,w2,theta)來完成這結果!!不信邪可以自己試試看~\n",
    "# 如果我們畫個x1,x2平面座標，並且把4個點(0,0) (0,1) (1,0) (1,1)，會發現不可能有一條直線可以把輸出是1和0的兩個點分開\n",
    "# 待畫圖!!!!!\n",
    "# 但如果使用曲線就可以完成這件事\n",
    "\n",
    "# 這時候就是多層感知器上場的時候啦!因為感知器的優點就在可以疊層!\n",
    "# (1)x1,x2先用NAND gate (2)x1,x2用OR gate (3)前兩項的結果用AND gate (4)即可得到XOR gate的效果\n",
    "# 現在可以時做XOR gate了，透過前面定義好的三種gate\n",
    "def XOR(x1, x2):\n",
    "    r1 = NAND(x1, x2)\n",
    "    r2 = OR(x1, x2)\n",
    "    y = AND(r1, r2)\n",
    "    return y\n",
    "print(XOR(0,0))\n",
    "print(XOR(1,0))\n",
    "print(XOR(0,1))\n",
    "print(XOR(1,1))"
   ]
  }
 ],
 "metadata": {
  "kernelspec": {
   "display_name": "Python 3",
   "language": "python",
   "name": "python3"
  },
  "language_info": {
   "codemirror_mode": {
    "name": "ipython",
    "version": 3
   },
   "file_extension": ".py",
   "mimetype": "text/x-python",
   "name": "python",
   "nbconvert_exporter": "python",
   "pygments_lexer": "ipython3",
   "version": "3.6.1"
  }
 },
 "nbformat": 4,
 "nbformat_minor": 2
}
